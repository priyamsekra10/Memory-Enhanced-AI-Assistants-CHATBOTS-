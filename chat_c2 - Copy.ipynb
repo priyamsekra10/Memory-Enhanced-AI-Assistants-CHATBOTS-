{
 "cells": [
  {
   "cell_type": "code",
   "execution_count": 1,
   "id": "7819c0a5",
   "metadata": {},
   "outputs": [],
   "source": [
    "import numpy as np\n",
    "import pandas as pd\n",
    "from sklearn.feature_extraction.text import TfidfVectorizer\n",
    "from sklearn.model_selection import train_test_split\n",
    "from sklearn.feature_extraction.text import CountVectorizer\n",
    "from sklearn.preprocessing import LabelEncoder, label_binarize\n",
    "from sklearn.linear_model import SGDClassifier\n",
    "from collections import Counter\n",
    "from sklearn.metrics import precision_score, recall_score, accuracy_score, roc_auc_score\n",
    "from nltk.stem import WordNetLemmatizer\n",
    "from sklearn.pipeline import Pipeline"
   ]
  },
  {
   "cell_type": "code",
   "execution_count": 2,
   "id": "20ab2a57",
   "metadata": {},
   "outputs": [
    {
     "data": {
      "text/html": [
       "<div>\n",
       "<style scoped>\n",
       "    .dataframe tbody tr th:only-of-type {\n",
       "        vertical-align: middle;\n",
       "    }\n",
       "\n",
       "    .dataframe tbody tr th {\n",
       "        vertical-align: top;\n",
       "    }\n",
       "\n",
       "    .dataframe thead th {\n",
       "        text-align: right;\n",
       "    }\n",
       "</style>\n",
       "<table border=\"1\" class=\"dataframe\">\n",
       "  <thead>\n",
       "    <tr style=\"text-align: right;\">\n",
       "      <th></th>\n",
       "      <th>question</th>\n",
       "      <th>answer</th>\n",
       "    </tr>\n",
       "  </thead>\n",
       "  <tbody>\n",
       "    <tr>\n",
       "      <th>0</th>\n",
       "      <td>hi</td>\n",
       "      <td>Hello! How can I assist you today?</td>\n",
       "    </tr>\n",
       "    <tr>\n",
       "      <th>1</th>\n",
       "      <td>how are you</td>\n",
       "      <td>Im doing well thank you. Is there anything you...</td>\n",
       "    </tr>\n",
       "    <tr>\n",
       "      <th>2</th>\n",
       "      <td>good morning</td>\n",
       "      <td>Good morning to you too! How can I assist you ...</td>\n",
       "    </tr>\n",
       "    <tr>\n",
       "      <th>3</th>\n",
       "      <td>good afternoon</td>\n",
       "      <td>Good afternoon to you too! How can I assist yo...</td>\n",
       "    </tr>\n",
       "    <tr>\n",
       "      <th>4</th>\n",
       "      <td>good evening</td>\n",
       "      <td>Good evening to you too! How can I assist you ...</td>\n",
       "    </tr>\n",
       "    <tr>\n",
       "      <th>...</th>\n",
       "      <td>...</td>\n",
       "      <td>...</td>\n",
       "    </tr>\n",
       "    <tr>\n",
       "      <th>1350</th>\n",
       "      <td>gallery</td>\n",
       "      <td>https://nmims.edu/about/photogallery-shirpur-c...</td>\n",
       "    </tr>\n",
       "    <tr>\n",
       "      <th>1351</th>\n",
       "      <td>gallery photograph</td>\n",
       "      <td>https://nmims.edu/about/photogallery-shirpur-c...</td>\n",
       "    </tr>\n",
       "    <tr>\n",
       "      <th>1352</th>\n",
       "      <td>tell me about nmims</td>\n",
       "      <td>NMIMS (Narsee Monjee Institute of Management S...</td>\n",
       "    </tr>\n",
       "    <tr>\n",
       "      <th>1353</th>\n",
       "      <td>about nmims shirpur</td>\n",
       "      <td>NMIMS (Narsee Monjee Institute of Management S...</td>\n",
       "    </tr>\n",
       "    <tr>\n",
       "      <th>1354</th>\n",
       "      <td>gym</td>\n",
       "      <td>The campus has several amenities including a l...</td>\n",
       "    </tr>\n",
       "  </tbody>\n",
       "</table>\n",
       "<p>1355 rows × 2 columns</p>\n",
       "</div>"
      ],
      "text/plain": [
       "                 question                                             answer\n",
       "0                      hi                 Hello! How can I assist you today?\n",
       "1             how are you  Im doing well thank you. Is there anything you...\n",
       "2            good morning  Good morning to you too! How can I assist you ...\n",
       "3          good afternoon  Good afternoon to you too! How can I assist yo...\n",
       "4            good evening  Good evening to you too! How can I assist you ...\n",
       "...                   ...                                                ...\n",
       "1350              gallery  https://nmims.edu/about/photogallery-shirpur-c...\n",
       "1351   gallery photograph  https://nmims.edu/about/photogallery-shirpur-c...\n",
       "1352  tell me about nmims  NMIMS (Narsee Monjee Institute of Management S...\n",
       "1353  about nmims shirpur  NMIMS (Narsee Monjee Institute of Management S...\n",
       "1354                 gym   The campus has several amenities including a l...\n",
       "\n",
       "[1355 rows x 2 columns]"
      ]
     },
     "execution_count": 2,
     "metadata": {},
     "output_type": "execute_result"
    }
   ],
   "source": [
    "df = pd.read_csv(\"df_shuff.csv\")\n",
    "df"
   ]
  },
  {
   "cell_type": "code",
   "execution_count": 3,
   "id": "2188f04c",
   "metadata": {},
   "outputs": [],
   "source": [
    "X = df[\"question\"]\n",
    "y = df[\"answer\"]"
   ]
  },
  {
   "cell_type": "code",
   "execution_count": 4,
   "id": "13f75935",
   "metadata": {},
   "outputs": [],
   "source": [
    "le = LabelEncoder()"
   ]
  },
  {
   "cell_type": "code",
   "execution_count": 5,
   "id": "11c9805f",
   "metadata": {},
   "outputs": [],
   "source": [
    "y = le.fit_transform(y)"
   ]
  },
  {
   "cell_type": "code",
   "execution_count": 6,
   "id": "5b1d3d34",
   "metadata": {},
   "outputs": [
    {
     "data": {
      "text/plain": [
       "array([ 32,  47,  26, ...,  66,  66, 144])"
      ]
     },
     "execution_count": 6,
     "metadata": {},
     "output_type": "execute_result"
    }
   ],
   "source": [
    "y"
   ]
  },
  {
   "cell_type": "code",
   "execution_count": 7,
   "id": "c5fb5a33",
   "metadata": {},
   "outputs": [
    {
     "data": {
      "text/plain": [
       "array(['80%.',\n",
       "       'Admission to NMIMS is based on entrance exams like NMIMS-NPAT followed by personal interview.',\n",
       "       'All medical facilities available on the campus.',\n",
       "       'All the best to you too!',\n",
       "       'As an AI language model I dont have a father or any human parents.',\n",
       "       'As an AI language model I dont have parents.',\n",
       "       'As an AI language model I dont have personal information but I can provide helpful answers and assistance.',\n",
       "       'At post Muktainagar; Taluka Shirpur; Dist. Dhule; Maharashtra - 425405; India https://engineering-shirpur.nmims.edu/contact-us/',\n",
       "       'Bye! Do you need help with anything else?',\n",
       "       'Bye! Is there anything else youd like to discuss?',\n",
       "       'Candidates have to appear for the entrance exam followed by personal interview for admission to NMIMS.',\n",
       "       'Congratulations on your retirement! Is there something specific you need help with before you go?',\n",
       "       'Course not Available', 'Curse not available.',\n",
       "       'Dr. Nitin S. Choubey is the current Professor and Head of the Computer Engineering department at NMIMS Shirpur campus. ',\n",
       "       'Each department at NMIMS Shirpur has well-equipped laboratories for students to conduct experiments and practicals.',\n",
       "       'Farewell see you soon!',\n",
       "       'Farewell! Is there anything else you need help with today?',\n",
       "       'Fine! How can I assist you today?',\n",
       "       'For a list of events organized by NMIMS Shirpur please visit the official college website at https://engineering-shirpur.nmims.edu/student-life/cultural-activities',\n",
       "       'For a list of events organized by NMIMS Shirpur please visit the official college website at https://engineering-shirpur.nmims.edu/student-life/cultural-activities/',\n",
       "       'For engineering admission to NMIMS candidates have to appear for the NMIMS-NPAT exam followed by personal interview.',\n",
       "       'Fruit options are available in the college mess. ',\n",
       "       'Good afternoon to you too! How can I assist you today?',\n",
       "       'Good day to you too! What brings you to our chat today?',\n",
       "       'Good evening to you too! How can I assist you today?',\n",
       "       'Good morning to you too! How can I assist you today?',\n",
       "       'Goodbye! Have a great day.',\n",
       "       'Goodbye! Is there anything else youd like to talk about?',\n",
       "       'Greetings to you too! Is there anything you need help with?',\n",
       "       'Hello Im an AI language model here to assist you.',\n",
       "       'Hello there! How can I assist you?',\n",
       "       'Hello! How can I assist you today?',\n",
       "       'Hello! Is there something I can help you with?',\n",
       "       'Hello. I am an AI language model here to assist you.',\n",
       "       'Hey there! Is there something you need assistance with today?',\n",
       "       'Hi my name is NBOT.',\n",
       "       'I am NBOT a chatbot designed to assist you with your queries.',\n",
       "       'I am a chatbot designed to assist you with your queries. How can I assist you today?',\n",
       "       'I am a chatbot. How can I assist you today?',\n",
       "       'I am called NBOT. How can I assist you today?',\n",
       "       'I dont have any personal information to provide.',\n",
       "       'I was developed by Priyam Sekra and Vipul Bhatia.',\n",
       "       'I was made by Vipul Bhatiya and Priyam Sekra.',\n",
       "       'I was not discovered but created by Priyam Sekra and Vipul Bhatia.',\n",
       "       'IBM is one of the companies that visits the college for recruitment. For more information visit: https://engineering-shirpur.nmims.edu/placements/ ',\n",
       "       'Im an AI language model designed to answer questions and provide assistance.',\n",
       "       'Im doing well thank you. Is there anything you need help with?',\n",
       "       'Im doing well. thank you. How can I assist you today?',\n",
       "       'Im sorry I am a virtual assistant and cannot be called. You can type your queries here.',\n",
       "       'Im sorry I could not find a specific telephone number for the civil department. You may be able to find contact information on the NMIMS Shirpur University website: https://shirpur.nmims.edu/contact-us/',\n",
       "       'Im sorry can you please provide more specific information about what you are looking for?',\n",
       "       'Im sorry. I am a virtual assistant and cannot be called. You can type your queries here.',\n",
       "       'Im sorry. I am a virtual assistant and do not have a contact number.',\n",
       "       'Im sorry. I am a virtual assistant and do not have a phone number. You can find contact information for NMIMS Shirpur University on their website: https://shirpur.nmims.edu/contact-us/',\n",
       "       'Im sorry. I could not find a specific telephone number for the ICT department. You may be able to find contact information on the NMIMS Shirpur University website: https://shirpur.nmims.edu/contact-us/',\n",
       "       'Im sorry. I could not find a specific telephone number for the computer department. You may be able to find contact information on the NMIMS Shirpur University website: https://shirpur.nmims.edu/contact-us/',\n",
       "       'Im sorry. I could not find a specific telephone number for the electrical department. You may be able to find contact information on the NMIMS Shirpur University website: https://shirpur.nmims.edu/contact-us/',\n",
       "       'It is the annual cultural fest of NMIMS shirpur.',\n",
       "       'It was a pleasure seeing you too! Is there something I can help you with?',\n",
       "       'Its going well. How can I assist you?',\n",
       "       'Maximum student intake varies from branch to branch and is decided by the university based on the availability of resources and infrastructure. For specific details about maximum student intake for each branch please refer to the NMIMS University Shirpur website or contact the university directly.',\n",
       "       'Microsoft is one of the companies that visits the college for recruitment. ',\n",
       "       'My creators are Priyam Sekra and Vipul Bhatia.',\n",
       "       'My name is NBOT. How can I assist you today?',\n",
       "       'My name is NBOT. I am your assistant. You can ask me anything about NMIMS University.',\n",
       "       'NMIMS (Narsee Monjee Institute of Management Studies) is a private deemed-to-be university. It offers undergraduate postgraduate and doctoral-level programs in various fields such as management engineering commerce law science architecture liberal arts and more. NMIMS is known for its high-quality education and is consistently ranked among the top 10 B-Schools in India.',\n",
       "       'NMIMS Shirpur has a modern and well-equipped infrastructure that includes spacious classrooms laboratories',\n",
       "       'NMIMS Shirpur has a zero-tolerance policy towards ragging. The institute has implemented various measures to prevent ragging such as an Anti-Ragging Committee etc.',\n",
       "       'NMIMS Shirpur has several departments including Computer Engineering Information Technology Electronics Engineering Mechanical Engineering and Electrical Engineering. Each department has well-equipped laboratories for students to conduct experiments and practicals.',\n",
       "       'NMIMS University Shirpur does not offer a course in Civil and Rural Engineering.',\n",
       "       'NMIMS University Shirpur has qualified and experienced faculty members.',\n",
       "       'NMIMS University Shirpur is located in Shirpur Maharashtra',\n",
       "       'NMIMS University Shirpur is located in Shirpur Maharashtra India. https://engineering-shirpur.nmims.edu/contact-us/',\n",
       "       'NMIMS University Shirpur is situated in Shirpur Maharashtra India. https://engineering-shirpur.nmims.edu/contact-us/',\n",
       "       'NMIMS University Shirpur offers various branches like computer engineering Electrical Engineering',\n",
       "       'NMIMS University Shirpur offers various undergraduate and postgraduate courses across various disciplines like engineering management etc.',\n",
       "       'NMIMS University Shirpur offers various undergraduate and postgraduate courses across various disciplines like engineering management etc. You can find the list of courses on their official website at https://engineering.nmims.edu/programs/',\n",
       "       'NMIMS University Shirpur provides IT solutions. Please visit the colleges website for more information: https://engineering-shirpur.nmims.edu/',\n",
       "       'NMIMS University Shirpur provides free internet services for students and staff.',\n",
       "       'NMIMS University Shirpur provides pure drinking water for students and staff.',\n",
       "       'NMIMS University Shirpur provides various facilities for hostel students including mess facilities',\n",
       "       'NMIMS University Shirpur provides various facilities including library sports gymnasium medical facilities and transport facilities.',\n",
       "       'NMIMS University Shirpur provides various facilities including library sports gymnasium medical facilities and transport facilities. Please refer to the official website for more details.',\n",
       "       'NMIMS University Shirpur; At post Muktainagar; Taluka Shirpur; Dist. Dhule; Maharashtra - 425405; India https://engineering-shirpur.nmims.edu/',\n",
       "       'NMIMS University Shirpur; At post Muktainagar; Taluka Shirpur; Dist. Dhule; Maharashtra - 425405; India https://engineering-shirpur.nmims.edu/contact-us/',\n",
       "       'NMIMS University Shirpur; At post Muktainagar; Taluka Shirpur; Dist. Dhule; Maharashtra - 425405; India: https://engineering-shirpur.nmims.edu/contact-us/',\n",
       "       'NMIMS holds many fests for example protashan ambiora etc.',\n",
       "       'NMIMS strongly prohibits ragging.',\n",
       "       'Narsee Monjee Institute of Management Studies (NMIMS) Shirpur was established in the year 2007.',\n",
       "       'Nice to hear that! How can I help you?',\n",
       "       'Nice to meet you too! Do you have any questions?',\n",
       "       'No citizenship is not required for admission to NMIMS University Shirpur. Please visit the colleges website for more information: https://engineering-shirpur.nmims.edu/admissions/undergraduate-admissions/',\n",
       "       'No project work is not a course. It is a mandatory component of the curriculum for many courses.',\n",
       "       'Not much how about you? How can I assist you?',\n",
       "       'Not much how about you? Is there something youd like to discuss?',\n",
       "       'Of course ask me anything youd like to know.',\n",
       "       'Okay have a great day! Is there something specific you need help with before you go?',\n",
       "       'Okay take care! Is there something else you need help with today?',\n",
       "       'Okay talk to you later!',\n",
       "       'Okay. have a good one! Is there something specific you need help with before you go?',\n",
       "       'Online training programs are available at NMIMS University Shirpur. Please visit the colleges website for more information: https://engineering-shirpur.nmims.edu/academic/programmes/',\n",
       "       'Original documents are required for admission to NMIMS University Shirpur. Please visit the colleges website for more information: https://engineering-shirpur.nmims.edu/admissions/undergraduate-admissions/',\n",
       "       'Please provide a starting point for the route. ',\n",
       "       'Please visit the colleges website for detailed information regarding certificates required for admission to NMIMS University Shirpur: https://engineering-shirpur.nmims.edu/admissions/undergraduate-admissions/',\n",
       "       'Please visit the colleges website for detailed information regarding documents needed for admission to NMIMS University Shirpur: https://engineering-shirpur.nmims.edu/admissions/undergraduate-admissions/',\n",
       "       'Please visit the colleges website for detailed information regarding documents required for admission to NMIMS University Shirpur: https://engineering-shirpur.nmims.edu/admissions/undergraduate-admissions',\n",
       "       'Please visit the colleges website for detailed information regarding documents required for admission to NMIMS University Shirpur: https://engineering-shirpur.nmims.edu/admissions/undergraduate-admissions/',\n",
       "       'Please visit the colleges website for detailed information regarding scholarship and fee structure at NMIMS University Shirpur: https://engineering-shirpur.nmims.edu/admissions/undergraduate-admissions/fees/',\n",
       "       'Pleased to meet you too! How can I assist you today?',\n",
       "       'Regards to you too! How can I assist you?',\n",
       "       'Samsung is one of the companies that visits the college for recruitment.For more information visit: https://engineering-shirpur.nmims.edu/placements/',\n",
       "       'See you later! How can I assist you today?',\n",
       "       'See you later! Is there something you need assistance with today?',\n",
       "       'See you soon! Is there something specific you need help with today?',\n",
       "       'Several companies visit the college for recruitment including IBM',\n",
       "       'Several companies visit the college for recruitment. For more information visit: https://engineering-shirpur.nmims.edu/placements/',\n",
       "       'Sorry I do not have access to the latest information about the fees for Computer Engineering at NMIMS University Shirpur. It would be best to check the official website of the university for the latest updates on the fees. Here is the link to the official website: https://engineering-shirpur.nmims.edu/',\n",
       "       'Sorry I do not have access to the latest information about the total fees of BE at NMIMS University Shirpur. It would be best to check the official website of the university for the latest updates on the fees. Here is the link to the official website: https://engineering-shirpur.nmims.edu/',\n",
       "       'Sorry I do not have access to the latest information about the tuition fees for NMIMS University Shirpur. It would be best to check the official website of the university for the latest updates on the fees. Here is the link to the official website: https://engineering-shirpur.nmims.edu/',\n",
       "       'Students can apply for leave by submitting a leave application to the warden of their hostel.',\n",
       "       'Students can book a room in the hostel by filling out a hostel admission form on the NMIMS Shirpur website at https://engineering-shirpur.nmims.edu/academics/hostel-facility/',\n",
       "       'Sure. Feel free to ask anything.',\n",
       "       'Sure. Id love to stay in touch.',\n",
       "       'Sure. talk to you soon! What can I help you with today?',\n",
       "       'Take care and have a great day! Is there something else I can help you with?',\n",
       "       'Take care and talk to you later! Do you need assistance with anything else?',\n",
       "       'Take care and talk to you soon! Do you need assistance with anything else?',\n",
       "       'Take care!', 'Take care! Do you need help with anything else?',\n",
       "       'Thank you for the good wishes! How can I assist you?',\n",
       "       'Thank you for the warm welcome! Is there anything you need help with?',\n",
       "       'Thank you for the welcome! How can I assist you?',\n",
       "       'Thank you you too! Is there anything else I can help you with?',\n",
       "       'Thank you you too! Is there something else I can assist you with?',\n",
       "       'Thank you! Is there anything else I can assist you with?',\n",
       "       'Thank you. you too! Is there something else I can help you with?',\n",
       "       'Thanks!',\n",
       "       'The NMIMS Shirpur library has a vast collection of books journals and research papers. Students can also access e-books and online databases.',\n",
       "       'The average package offered during placements varies annually and may not have a fixed figure. For more information visit: https://engineering-shirpur.nmims.edu/placements/',\n",
       "       'The break time is scheduled depending on the daily routine of the college.',\n",
       "       'The break timings may vary depending on the schedule.',\n",
       "       'The campus has a canteen that serves a variety of food items and snacks to students and staff at reasonable prices.',\n",
       "       'The campus has a high-speed internet connection that provides students with access to online resources and e-learning platforms.',\n",
       "       'The campus has several amenities including a library sports facilities a gymnasium and a cafeteria.',\n",
       "       'The canteen of the college is located in the main building. ',\n",
       "       'The canteen prices are affordable for students. ',\n",
       "       'The classes will be over by 5:00 pm.',\n",
       "       'The college building has multiple floors and houses classrooms laboratories and administrative offices.',\n",
       "       'The college can be reached via bus train or car. The nearest railway station is Dhule and the nearest airport is Aurangabad or indore. https://engineering-shirpur.nmims.edu/contact-us/',\n",
       "       'The college can be reached via bus train or car. The nearest railway station is Dhule and the nearest airport is Aurangabad. https://engineering-shirpur.nmims.edu/contact-us/',\n",
       "       'The college canteen is a place to eat for students. ',\n",
       "       'The college canteen provides a variety of food options and is satisfactory. ',\n",
       "       'The college canteen provides a variety of food options. ',\n",
       "       'The college canteen provides fresh food options. ',\n",
       "       'The college canteen provides healthy food options. ',\n",
       "       'The college conducts online placement sessions for students. ',\n",
       "       'The college ends at 5:00 pm.',\n",
       "       'The college has a canteen facility available for students with a variety of food options named aditi. ',\n",
       "       'The college has a health clinic on campus that provides medical assistance to students and staff.',\n",
       "       'The college has an active placement cell to facilitate campus recruitment of students. For more information visit: https://engineering-shirpur.nmims.edu/placements/',\n",
       "       'The college has an active placement cell to facilitate campus recruitment of students. For more information visit: https://engineering-shirpur.nmims.edu/placements/ ',\n",
       "       'The college has an active placement cell to facilitate campus recruitment of students.For more information visit: https://engineering-shirpur.nmims.edu/placements/',\n",
       "       'The college has canteen facilities available for students with a variety of food options',\n",
       "       'The college has canteen facilities available for students with a variety of food options.',\n",
       "       'The college has canteen facilities available for students with a variety of food options. ',\n",
       "       'The college hours are from 10:00 am to 5:00 pm.',\n",
       "       'The college is open from Monday to Friday.',\n",
       "       'The college operates from 10:00 am to 5:00 pm.',\n",
       "       'The college organizes several events throughout the year including cultural festivals technical events and sports competitions for example protsahan and ambiora.',\n",
       "       'The college provides pure and safe drinking water through water coolers and RO systems installed across the campus.',\n",
       "       'The college provides students with necessary study equipment including projectors whiteboards and audio-visual aids.',\n",
       "       'The college starts at 10:00 am.',\n",
       "       'The college time routine varies depending on the schedule.',\n",
       "       'The college timing is from 10:00 am to 5:00 pm.',\n",
       "       'The college works from Monday to Friday.',\n",
       "       'The cost of filling the admission form for NMIMS varies as per the course. Please refer to the official website for the same.',\n",
       "       'The courses in Electrical Engineering at NMIMS University Shirpur include Power Systems Electrical Machines Control Systems Electrical Measurements and Instrumentation etc.',\n",
       "       'The courses in Electronics Engineering at NMIMS University Shirpur include Analog Electronics Digital Electronics',\n",
       "       'The courses in IT Engineering at NMIMS University Shirpur include Data Structures and Algorithms Database Management Systems Operating Systems Computer Networks etc.',\n",
       "       'The current Director of SVKMs NMIMS Shirpur Campus is Dr. Akshay Malhotra and he can be reached at akshay.malhotra@nmims.edu.',\n",
       "       'The current Director of SVKMs NMIMS Shirpur Campus is Dr. Akshay Malhotra and he can be reached at akshay.malhotra@nmims.edu. ',\n",
       "       'The distance between Indore and NMIMS Shirpur campus is approximately 215 km. You can travel by car or bus.',\n",
       "       'The distance between Mumbai and NMIMS Shirpur campus is approximately 290 km.',\n",
       "       'The duration of each subject may vary depending on the schedule.',\n",
       "       'The eligibility criteria for admission to NMIMS varies as per the course. Please refer to the official website for the same.',\n",
       "       'The eligibility criteria for engineering admission to NMIMS is a minimum of 50% marks in 10+2 with Physics Chemistry and Mathematics.',\n",
       "       'The eligibility for admission to NMIMS varies as per the course. Please refer to the official website for the same.',\n",
       "       'The food menu of the college canteen changes regularly with a variety of options available. ',\n",
       "       'The girls hostel is located within the campus of NMIMS University Shirpur. https://engineering-shirpur.nmims.edu/facilities/hostel-facilities/',\n",
       "       'The hostel fees vary depending on the hostel and the room type. For more information please visit the NMIMS Shirpur website at https://engineering-shirpur.nmims.edu/academics/hostel-facility/',\n",
       "       'The hostel is located within the campus so the distance between the hostel and the college is minimal.',\n",
       "       'The hostel remains open during holidays and vacations. However the college remains closed on national and state holidays.',\n",
       "       'The laboratories at NMIMS Shirpur are well-equipped with modern equipment and technology to provide students with hands-on experience and practical knowledge.',\n",
       "       'The name of the CSE HOD is not available. ',\n",
       "       'The number of CSE HOD is not available. ',\n",
       "       'The number of floors in the college building varies depending on the block.',\n",
       "       'The official result site for NMIMS University Shirpur is https://nmims.edu/results/',\n",
       "       'The package offered during placements varies annually and may not have a fixed figure.For more information visit: https://engineering-shirpur.nmims.edu/placements/',\n",
       "       'The proper procedure to get admission to NMIMS is to appear for the NMIMS-NPAT exam followed by personal interview.',\n",
       "       'The shortest path to reach NMIMS University Shirpur may vary depending on the starting location. Please provide a starting point for the route.',\n",
       "       'The telephone number for NMIMS Shirpur University is +91-2563-286551.',\n",
       "       'The telephone number for NMIMS Shirpur University is +91-2563-286551. You can find contact information for NMIMS Shirpur University on their website: https://shirpur.nmims.edu/contact-us/',\n",
       "       'The time for each period is 1 hour.',\n",
       "       'The time interval of each subject may vary depending on the schedule.',\n",
       "       'The total time schedule of the college is from 10:00 am to 5:00 pm.',\n",
       "       'There are separate hostels for boys and girls on campus.',\n",
       "       'There is a boys hostel available within the campus of NMIMS University Shirpur. https://engineering-shirpur.nmims.edu/facilities/hostel-facilities/',\n",
       "       'This is NBOT a chatbot designed to assist you with your queries.',\n",
       "       'To reach Dr. Nitin Chaubey visit nmims website. ',\n",
       "       'Various training programs are offered by NMIMS University Shirpur. Please visit the colleges website for more information: https://engineering-shirpur.nmims.edu/academic/programmes/',\n",
       "       'Welcome back! Is there something specific you need help with today?',\n",
       "       'What specific details are you looking for?',\n",
       "       'What specific information details would you like me to provide?',\n",
       "       'What specific information would you like me to provide?',\n",
       "       'Yes I am called NBOT. How can I assist you today?',\n",
       "       'Yes I can answer questions and provide information to help you get to know me better.',\n",
       "       'Yes NMIMS University Shirpur provides hostel facilities for both boys and girls. For more information about the hostel facilities',\n",
       "       'Yes NMIMS University Shirpur provides room sharing options for hostel students. For more information about the hostel facilities',\n",
       "       'Yes NMIMS University Shirpur provides transport facilities for students and staff.',\n",
       "       'Yes NMIMS conducts NMIMS-NPAT exam for admission to various courses including engineering.',\n",
       "       'Yes candidates have to fill the admission form available on the official website of NMIMS for admission. https://www.nmims.edu/shirpurcampus',\n",
       "       'Yes family members are allowed to visit students in the hostel.',\n",
       "       'Yes the college is open on Saturdays.',\n",
       "       'Yes. Im here. How can I assist you today?',\n",
       "       'You are chatting with NBOT a chatbot designed to assist you with your queries.',\n",
       "       'You are talking to NBOT a chatbot designed to assist you with your queries.',\n",
       "       'You can call me NBOT. How can I assist you today?',\n",
       "       'You can contact NMIMS Shirpur University through their website or by phone. Their contact information is available here: https://shirpur.nmims.edu/contact-us/',\n",
       "       'You can find contact information for NMIMS Shirpur University on their website: https://shirpur.nmims.edu/contact-us/',\n",
       "       'You can find department contact information on the NMIMS Shirpur University website: https://shirpur.nmims.edu/contact-us/',\n",
       "       'You can find information about the exam section at NMIMS Shirpur University on their website: https://shirpur.nmims.edu/examination/',\n",
       "       'You can find information about the faculty and staff at NMIMS Shirpur University on their website: https://shirpur.nmims.edu/faculty-and-research/',\n",
       "       'You can find the detailed syllabus of each branch on the official website of NMIMS University Shirpur. Official website https://engineering.nmims.edu/programs/',\n",
       "       'You can find the list of courses offered by NMIMS University Shirpur on their official website at https://engineering.nmims.edu/programs/',\n",
       "       'You can find the syllabus for various programs offered at NMIMS University Shirpur on their official website under the Academics section. Heres the link: https://engineering-shirpur.nmims.edu/academics/syllabus/',\n",
       "       \"You can find today's mess menu on this app. \",\n",
       "       'You can get to know me by asking me questions and requesting information.',\n",
       "       'You can type your queries here and I will do my best to help you. You can find contact information for NMIMS Shirpur University on their website: https://shirpur.nmims.edu/contact-us/',\n",
       "       'You need to maintain 80% attendance to be promoted to next semester.',\n",
       "       'Youre welcome! Do you have any further questions?',\n",
       "       'aditi is college canteen. It is open till 7PM.',\n",
       "       'aditi is open till 7PM.',\n",
       "       'all types of sports facilities and courts available.',\n",
       "       'amphitheater of nmims shirpur in front of girls hostel.',\n",
       "       'as an ai model i do not have the ability to love.',\n",
       "       'as an ai model i do not have the ability to marry.', 'cant help.',\n",
       "       'centre of the academic wings.', 'extension of A wing.',\n",
       "       'for academic leave you must contact your assigned mentor.',\n",
       "       'get lost.', 'https://engineering-shirpur.nmims.edu/contact-us/',\n",
       "       'https://nmims.edu/about/photogallery-shirpur-campus/',\n",
       "       'https://nmims.secure.force.com/',\n",
       "       'it is the annual tech fest of NMIMS SHIRPUR.',\n",
       "       'it is the central foyer located in the centre of the academic wings.',\n",
       "       'nmims has mess where students can collectively have their meals.',\n",
       "       'prem milan chouk is a fountain area of nmims shirpur named by the students.',\n",
       "       'there is a dress code for students at NMIMS University Shirpur. The uniform is mandatory for students.',\n",
       "       'yes.', 'you bitch.',\n",
       "       'you can registor for the admission process here: https://www.nmims.edu/shirpurcampus',\n",
       "       'you shut up.'], dtype=object)"
      ]
     },
     "execution_count": 7,
     "metadata": {},
     "output_type": "execute_result"
    }
   ],
   "source": [
    "le.classes_"
   ]
  },
  {
   "cell_type": "code",
   "execution_count": 8,
   "id": "d051ed38",
   "metadata": {},
   "outputs": [],
   "source": [
    "X_train, X_test, y_train, y_test = train_test_split(X ,y , random_state = 100, test_size = 0.2)"
   ]
  },
  {
   "cell_type": "code",
   "execution_count": 9,
   "id": "43dd8c9d",
   "metadata": {},
   "outputs": [
    {
     "data": {
      "text/plain": [
       "<1084x1489 sparse matrix of type '<class 'numpy.float64'>'\n",
       "\twith 3981 stored elements in Compressed Sparse Row format>"
      ]
     },
     "execution_count": 9,
     "metadata": {},
     "output_type": "execute_result"
    }
   ],
   "source": [
    "tf = TfidfVectorizer(lowercase=False,ngram_range=(1, 3),min_df=0,stop_words='english')\n",
    "X_train_tf = tf.fit_transform(X_train)\n",
    "X_train_tf"
   ]
  },
  {
   "cell_type": "code",
   "execution_count": 10,
   "id": "1c5e5127",
   "metadata": {},
   "outputs": [],
   "source": [
    "X_test_tf = tf.transform(X_test)"
   ]
  },
  {
   "cell_type": "code",
   "execution_count": 11,
   "id": "d2a9de89",
   "metadata": {},
   "outputs": [
    {
     "data": {
      "text/plain": [
       "SGDClassifier(alpha=0.0005, loss='modified_huber', n_jobs=-1, random_state=100)"
      ]
     },
     "execution_count": 11,
     "metadata": {},
     "output_type": "execute_result"
    }
   ],
   "source": [
    "model = SGDClassifier(n_jobs=-1,random_state=100,loss='modified_huber',alpha=0.0005)\n",
    "model.fit(X_train_tf,y_train)"
   ]
  },
  {
   "cell_type": "code",
   "execution_count": 12,
   "id": "c28bdfb0",
   "metadata": {},
   "outputs": [
    {
     "data": {
      "text/plain": [
       "Pipeline(steps=[('vectorizer',\n",
       "                 TfidfVectorizer(lowercase=False, min_df=0, ngram_range=(1, 3),\n",
       "                                 stop_words='english')),\n",
       "                ('SGDClassifier',\n",
       "                 SGDClassifier(alpha=0.0005, loss='modified_huber', n_jobs=-1,\n",
       "                               random_state=100))])"
      ]
     },
     "execution_count": 12,
     "metadata": {},
     "output_type": "execute_result"
    }
   ],
   "source": [
    "pipe = Pipeline([('vectorizer',tf),(\"SGDClassifier\",model)])\n",
    "pipe.fit(X_train, y_train)"
   ]
  },
  {
   "cell_type": "code",
   "execution_count": 13,
   "id": "27ad3dc5",
   "metadata": {},
   "outputs": [
    {
     "data": {
      "text/plain": [
       "array([236, 139,  63, 243, 143, 149, 167, 104,   3, 240,  53, 212, 180,\n",
       "       180, 259, 262, 135, 220,   1, 134, 211,  63, 155,  71, 191,  28,\n",
       "       174, 201, 104,  18, 149,  62,  35,  95,  14,  72, 242, 175,  12,\n",
       "        19,  50,  29, 248, 104,  40, 262, 119, 161,  95,  66,  53,  23,\n",
       "        64, 104, 212, 202, 173, 219, 102, 247, 197, 120,  83, 220, 178,\n",
       "        63, 100,  25, 124,  58,  11, 189, 170,  64, 190,  22, 195,  57,\n",
       "       213, 183, 135,   7, 182,  86, 252,  25,  58, 202, 198, 117, 107,\n",
       "       145, 253, 107,   3,  25, 107,  17,  12,  90,  63, 156, 167,  75,\n",
       "         1,  73,  64,   5,  68, 120,  81,  12, 106, 232,  61, 181,  14,\n",
       "       197, 226, 213, 241, 119, 107, 231, 246, 111, 258, 202, 112, 202,\n",
       "       221, 200,  12, 212, 262, 252, 171, 191, 184, 127, 250, 250, 162,\n",
       "       159, 196,  78, 172,  45, 136,  95,  64,  46, 252, 114,  28,  64,\n",
       "       209,  63, 256, 160, 154, 241,  41, 233, 165, 233, 249, 107, 104,\n",
       "       228, 250,   3, 191,  64, 231, 196,  42, 198, 108,   5,  95,  73,\n",
       "        12, 162,  23, 232, 125, 262, 107,  66,  41,  18,  68, 251, 168,\n",
       "       115, 116, 218, 104, 259, 235,  98,  51,  53, 174,  64, 190,  64,\n",
       "        73,  64,  63, 178, 107, 202, 167, 190, 165, 176, 126, 225,  64,\n",
       "       152, 164,  64, 124, 236, 180, 188, 255, 251,  64, 128,  53, 183,\n",
       "       235,  51, 147, 115,  82, 232, 262, 258, 164, 226, 232, 227, 221,\n",
       "       168, 234,  95,  64, 232,  99,  63, 216, 222, 211,  63, 128, 123,\n",
       "       187,  63, 253,  63, 193, 262,  64, 104,   2,  64, 171])"
      ]
     },
     "execution_count": 13,
     "metadata": {},
     "output_type": "execute_result"
    }
   ],
   "source": [
    "y_pred = pipe.predict(X_test)\n",
    "y_pred"
   ]
  },
  {
   "cell_type": "code",
   "execution_count": 14,
   "id": "5fe28b55",
   "metadata": {},
   "outputs": [
    {
     "data": {
      "application/javascript": [
       "\n",
       "        if (window._pyforest_update_imports_cell) { window._pyforest_update_imports_cell('import pickle'); }\n",
       "    "
      ],
      "text/plain": [
       "<IPython.core.display.Javascript object>"
      ]
     },
     "metadata": {},
     "output_type": "display_data"
    }
   ],
   "source": [
    "with open('abc-0.1.0.pkl','wb') as f:\n",
    "    pickle.dump(pipe,f)"
   ]
  },
  {
   "cell_type": "code",
   "execution_count": null,
   "id": "68ad8630",
   "metadata": {},
   "outputs": [],
   "source": []
  },
  {
   "cell_type": "code",
   "execution_count": null,
   "id": "996d7bd4",
   "metadata": {},
   "outputs": [],
   "source": []
  },
  {
   "cell_type": "code",
   "execution_count": null,
   "id": "ed0e72e6",
   "metadata": {},
   "outputs": [],
   "source": []
  },
  {
   "cell_type": "code",
   "execution_count": 15,
   "id": "f178342f",
   "metadata": {},
   "outputs": [
    {
     "data": {
      "text/plain": [
       "array([236, 139,  63, 243, 143, 149, 167, 104,   3, 240,  53, 212, 180,\n",
       "       180, 259, 262, 135, 220,   1, 134, 211,  63, 155,  71, 191,  28,\n",
       "       174, 201, 104,  18, 149,  62,  35,  95,  14,  72, 242, 175,  12,\n",
       "        19,  50,  29, 248, 104,  40, 262, 119, 161,  95,  66,  53,  23,\n",
       "        64, 104, 212, 202, 173, 219, 102, 247, 197, 120,  83, 220, 178,\n",
       "        63, 100,  25, 124,  58,  11, 189, 170,  64, 190,  22, 195,  57,\n",
       "       213, 183, 135,   7, 182,  86, 252,  25,  58, 202, 198, 117, 107,\n",
       "       145, 253, 107,   3,  25, 107,  17,  12,  90,  63, 156, 167,  75,\n",
       "         1,  73,  64,   5,  68, 120,  81,  12, 106, 232,  61, 181,  14,\n",
       "       197, 226, 213, 241, 119, 107, 231, 246, 111, 258, 202, 112, 202,\n",
       "       221, 200,  12, 212, 262, 252, 171, 191, 184, 127, 250, 250, 162,\n",
       "       159, 196,  78, 172,  45, 136,  95,  64,  46, 252, 114,  28,  64,\n",
       "       209,  63, 256, 160, 154, 241,  41, 233, 165, 233, 249, 107, 104,\n",
       "       228, 250,   3, 191,  64, 231, 196,  42, 198, 108,   5,  95,  73,\n",
       "        12, 162,  23, 232, 125, 262, 107,  66,  41,  18,  68, 251, 168,\n",
       "       115, 116, 218, 104, 259, 235,  98,  51,  53, 174,  64, 190,  64,\n",
       "        73,  64,  63, 178, 107, 202, 167, 190, 165, 176, 126, 225,  64,\n",
       "       152, 164,  64, 124, 236, 180, 188, 255, 251,  64, 128,  53, 183,\n",
       "       235,  51, 147, 115,  82, 232, 262, 258, 164, 226, 232, 227, 221,\n",
       "       168, 234,  95,  64, 232,  99,  63, 216, 222, 211,  63, 128, 123,\n",
       "       187,  63, 253,  63, 193, 262,  64, 104,   2,  64, 171])"
      ]
     },
     "execution_count": 15,
     "metadata": {},
     "output_type": "execute_result"
    }
   ],
   "source": [
    "y_pred2 = model.predict(X_test_tf)\n",
    "y_pred2"
   ]
  },
  {
   "cell_type": "code",
   "execution_count": 16,
   "id": "78291554",
   "metadata": {},
   "outputs": [],
   "source": [
    "labels = np.unique(y_test)\n",
    "ytest_prob = label_binarize(y_test, classes=labels)\n",
    "ypred_prob = label_binarize(y_pred, classes=labels)"
   ]
  },
  {
   "cell_type": "code",
   "execution_count": 17,
   "id": "de17a0e9",
   "metadata": {},
   "outputs": [
    {
     "name": "stdout",
     "output_type": "stream",
     "text": [
      "Accuracy Score: 0.8265682656826568\n",
      "Precision Score: 0.8265682656826568\n",
      "Recall Score: 0.8265682656826568\n",
      "ROC-AUC Score: 0.9130236596483612\n"
     ]
    }
   ],
   "source": [
    "print(\"Accuracy Score:\",accuracy_score(y_test,y_pred))\n",
    "print(\"Precision Score:\",precision_score(y_test,y_pred,average='micro'))\n",
    "print(\"Recall Score:\",recall_score(y_test,y_pred,average='micro'))\n",
    "print(\"ROC-AUC Score:\",roc_auc_score(ytest_prob,ypred_prob,multi_class='ovo',average='micro'))"
   ]
  },
  {
   "cell_type": "code",
   "execution_count": 119,
   "id": "6b270498",
   "metadata": {
    "scrolled": false
   },
   "outputs": [
    {
     "name": "stdout",
     "output_type": "stream",
     "text": [
      "Question: manner college to\n",
      "\n",
      "Predicted Answer:\n",
      "The college can be reached via bus train or car. The nearest railway station is Dhule and the nearest airport is Aurangabad or indore. https://engineering-shirpur.nmims.edu/contact-us/\n",
      "\n",
      "Actual Answer:\n",
      "The college can be reached via bus train or car. The nearest railway station is Dhule and the nearest airport is Aurangabad or indore. https://engineering-shirpur.nmims.edu/contact-us/\n"
     ]
    }
   ],
   "source": [
    "idx = 5\n",
    "print(f\"Question: {X_test.iloc[idx]}\")\n",
    "print(f\"\\nPredicted Answer:\\n{le.inverse_transform(model.predict(X_test_tf[idx]))[0]}\")\n",
    "print(f\"\\nActual Answer:\\n{le.inverse_transform([y_test[idx]])[0]}\")"
   ]
  },
  {
   "cell_type": "code",
   "execution_count": 120,
   "id": "7d0061fa",
   "metadata": {},
   "outputs": [],
   "source": [
    "lemmatizer = WordNetLemmatizer()\n",
    "def data(text):\n",
    "    text = text.lower()\n",
    "    text = re.sub('[^a-zA-Z]', ' ', text)\n",
    "    text = text.split()\n",
    "    text = [lemmatizer.lemmatize(word) for word in text]\n",
    "    text = \" \".join(text)\n",
    "    return text"
   ]
  },
  {
   "cell_type": "code",
   "execution_count": 121,
   "id": "d3c25b13",
   "metadata": {
    "scrolled": true
   },
   "outputs": [
    {
     "data": {
      "application/javascript": [
       "\n",
       "        if (window._pyforest_update_imports_cell) { window._pyforest_update_imports_cell('import re'); }\n",
       "    "
      ],
      "text/plain": [
       "<IPython.core.display.Javascript object>"
      ]
     },
     "metadata": {},
     "output_type": "display_data"
    },
    {
     "name": "stdout",
     "output_type": "stream",
     "text": [
      "Question: who are your creators\n",
      "\n",
      "Predicted Answer:\n",
      "My creators are Priyam Sekra and Vipul Bhatia.\n"
     ]
    }
   ],
   "source": [
    "questn = \"who are your creators\"\n",
    "clean_ques = data(questn)\n",
    "clean_ques = tf.transform([clean_ques])\n",
    "print(f\"Question: {questn}\")\n",
    "if np.amax(model.predict_proba(clean_ques))>0.1:\n",
    "    print(f\"\\nPredicted Answer:\\n{le.inverse_transform(model.predict(clean_ques))[0]}\")\n",
    "else:\n",
    "    print(f\"\\nAnswer:\\nThis might help you\\n{le.inverse_transform(model.predict(clean_ques))[0]}\")"
   ]
  },
  {
   "cell_type": "code",
   "execution_count": 122,
   "id": "b4ef8147",
   "metadata": {},
   "outputs": [
    {
     "name": "stdout",
     "output_type": "stream",
     "text": [
      "Precision: 0.7349162011173185\n",
      "Recall: 0.7694684272896564\n",
      "F1 Score: 0.7420058526203777\n"
     ]
    },
    {
     "name": "stderr",
     "output_type": "stream",
     "text": [
      "C:\\Users\\priya\\anaconda3\\lib\\site-packages\\sklearn\\metrics\\_classification.py:1318: UndefinedMetricWarning: Precision is ill-defined and being set to 0.0 in labels with no predicted samples. Use `zero_division` parameter to control this behavior.\n",
      "  _warn_prf(average, modifier, msg_start, len(result))\n",
      "C:\\Users\\priya\\anaconda3\\lib\\site-packages\\sklearn\\metrics\\_classification.py:1318: UndefinedMetricWarning: Recall is ill-defined and being set to 0.0 in labels with no true samples. Use `zero_division` parameter to control this behavior.\n",
      "  _warn_prf(average, modifier, msg_start, len(result))\n"
     ]
    }
   ],
   "source": [
    "from sklearn.metrics import precision_score, recall_score, f1_score\n",
    "\n",
    "# Assuming you have the true labels and predicted labels\n",
    "true_labels = y_test\n",
    "predicted_labels = y_pred\n",
    "\n",
    "# Calculate precision, recall, and F1 score\n",
    "precision = precision_score(true_labels, predicted_labels, average='macro')\n",
    "recall = recall_score(true_labels, predicted_labels, average='macro')\n",
    "f1 = f1_score(true_labels, predicted_labels, average='macro')\n",
    "\n",
    "print(\"Precision:\", precision)\n",
    "print(\"Recall:\", recall)\n",
    "print(\"F1 Score:\", f1)\n"
   ]
  },
  {
   "cell_type": "code",
   "execution_count": null,
   "id": "757d2279",
   "metadata": {},
   "outputs": [],
   "source": []
  }
 ],
 "metadata": {
  "kernelspec": {
   "display_name": "Python 3 (ipykernel)",
   "language": "python",
   "name": "python3"
  },
  "language_info": {
   "codemirror_mode": {
    "name": "ipython",
    "version": 3
   },
   "file_extension": ".py",
   "mimetype": "text/x-python",
   "name": "python",
   "nbconvert_exporter": "python",
   "pygments_lexer": "ipython3",
   "version": "3.9.13"
  }
 },
 "nbformat": 4,
 "nbformat_minor": 5
}
